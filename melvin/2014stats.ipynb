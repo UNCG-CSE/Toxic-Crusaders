{
 "cells": [
  {
   "cell_type": "markdown",
   "metadata": {},
   "source": [
    "### 2014 stats.\n",
    "Some statistics work for 2014 NC/US TRI data.\n",
    "Not sure how useful this is, but took a significant amount of time so I'll share it!"
   ]
  },
  {
   "cell_type": "code",
   "execution_count": 4,
   "metadata": {},
   "outputs": [
    {
     "name": "stdout",
     "output_type": "stream",
     "text": [
      "Populating the interactive namespace from numpy and matplotlib\n"
     ]
    },
    {
     "data": {
      "text/html": [
       "<div>\n",
       "<style>\n",
       "    .dataframe thead tr:only-child th {\n",
       "        text-align: right;\n",
       "    }\n",
       "\n",
       "    .dataframe thead th {\n",
       "        text-align: left;\n",
       "    }\n",
       "\n",
       "    .dataframe tbody tr th {\n",
       "        vertical-align: top;\n",
       "    }\n",
       "</style>\n",
       "<table border=\"1\" class=\"dataframe\">\n",
       "  <thead>\n",
       "    <tr style=\"text-align: right;\">\n",
       "      <th></th>\n",
       "      <th>YEAR</th>\n",
       "      <th>TRI_FACILITY_ID</th>\n",
       "      <th>FRS_ID</th>\n",
       "      <th>FACILITY_NAME</th>\n",
       "      <th>STREET_ADDRESS</th>\n",
       "      <th>CITY</th>\n",
       "      <th>COUNTY</th>\n",
       "      <th>ST</th>\n",
       "      <th>ZIP</th>\n",
       "      <th>BIA_CODE</th>\n",
       "      <th>...</th>\n",
       "      <th>8.5_RECYCLING_OFF-SITE</th>\n",
       "      <th>8.6_TREATMENT_ON-SITE</th>\n",
       "      <th>8.7_TREATMENT_OFF-SITE</th>\n",
       "      <th>PROD._WASTE_(8.1_THRU_8.7)</th>\n",
       "      <th>8.8_ONE-TIME_RELEASE</th>\n",
       "      <th>PROD_RATIO_OR_ACTIVITY</th>\n",
       "      <th>8.9_PRODUCTION_RATIO</th>\n",
       "      <th>PARENT_COMPANY_NAME</th>\n",
       "      <th>PARENT_COMPANY_DB_NUMBER</th>\n",
       "      <th>Unnamed: 109</th>\n",
       "    </tr>\n",
       "  </thead>\n",
       "  <tbody>\n",
       "    <tr>\n",
       "      <th>0</th>\n",
       "      <td>2014</td>\n",
       "      <td>28352LBBYWHWY74</td>\n",
       "      <td>110000710231</td>\n",
       "      <td>PILKINGTON NA</td>\n",
       "      <td>13121 ROCKY FORD RD</td>\n",
       "      <td>LAURINBURG</td>\n",
       "      <td>SCOTLAND</td>\n",
       "      <td>NC</td>\n",
       "      <td>28352</td>\n",
       "      <td>NaN</td>\n",
       "      <td>...</td>\n",
       "      <td>0.0</td>\n",
       "      <td>10413.0</td>\n",
       "      <td>0.0</td>\n",
       "      <td>10934.0</td>\n",
       "      <td>NaN</td>\n",
       "      <td>PRODUCTION</td>\n",
       "      <td>1.13</td>\n",
       "      <td>PILKINGTON N.A. INC</td>\n",
       "      <td>212371884.0</td>\n",
       "      <td>NaN</td>\n",
       "    </tr>\n",
       "    <tr>\n",
       "      <th>1</th>\n",
       "      <td>2014</td>\n",
       "      <td>28360LKYST88CAT</td>\n",
       "      <td>110001493090</td>\n",
       "      <td>ELKAY PLUMBING PRODUCTS CO</td>\n",
       "      <td>880 CATON ROAD</td>\n",
       "      <td>LUMBERTON</td>\n",
       "      <td>ROBESON</td>\n",
       "      <td>NC</td>\n",
       "      <td>28360</td>\n",
       "      <td>NaN</td>\n",
       "      <td>...</td>\n",
       "      <td>10214.0</td>\n",
       "      <td>0.0</td>\n",
       "      <td>0.0</td>\n",
       "      <td>10216.0</td>\n",
       "      <td>NaN</td>\n",
       "      <td>PRODUCTION</td>\n",
       "      <td>1.03</td>\n",
       "      <td>ELKAY MANUFACTURING CO</td>\n",
       "      <td>5080429.0</td>\n",
       "      <td>NaN</td>\n",
       "    </tr>\n",
       "    <tr>\n",
       "      <th>2</th>\n",
       "      <td>2014</td>\n",
       "      <td>27017WYNFR1018E</td>\n",
       "      <td>110000345109</td>\n",
       "      <td>WAYNE FARMS LLC - DOBSON FRESH PLANT</td>\n",
       "      <td>802 E ATKINS ST</td>\n",
       "      <td>DOBSON</td>\n",
       "      <td>SURRY</td>\n",
       "      <td>NC</td>\n",
       "      <td>27017</td>\n",
       "      <td>NaN</td>\n",
       "      <td>...</td>\n",
       "      <td>0.0</td>\n",
       "      <td>12028.5</td>\n",
       "      <td>0.0</td>\n",
       "      <td>12150.0</td>\n",
       "      <td>NaN</td>\n",
       "      <td>PRODUCTION</td>\n",
       "      <td>1.02</td>\n",
       "      <td>CONTINENTAL GRAIN CO</td>\n",
       "      <td>6982409.0</td>\n",
       "      <td>NaN</td>\n",
       "    </tr>\n",
       "    <tr>\n",
       "      <th>3</th>\n",
       "      <td>2014</td>\n",
       "      <td>27107STRHC4000O</td>\n",
       "      <td>110000345458</td>\n",
       "      <td>ARDAGH METAL BEVERAGE USA INC RE: WINSTON SALE...</td>\n",
       "      <td>4000 OLD MILWAUKEE LN</td>\n",
       "      <td>WINSTON SALEM</td>\n",
       "      <td>FORSYTH</td>\n",
       "      <td>NC</td>\n",
       "      <td>27107</td>\n",
       "      <td>NaN</td>\n",
       "      <td>...</td>\n",
       "      <td>0.0</td>\n",
       "      <td>78170.0</td>\n",
       "      <td>0.0</td>\n",
       "      <td>501549.0</td>\n",
       "      <td>NaN</td>\n",
       "      <td>PRODUCTION</td>\n",
       "      <td>1.02</td>\n",
       "      <td>ARDAGH HOLDINGS USA INC</td>\n",
       "      <td>80376954.0</td>\n",
       "      <td>NaN</td>\n",
       "    </tr>\n",
       "    <tr>\n",
       "      <th>4</th>\n",
       "      <td>2014</td>\n",
       "      <td>28560WYRHSSTREE</td>\n",
       "      <td>110000350478</td>\n",
       "      <td>INTERNATIONAL PAPER- NEW BERN MILL</td>\n",
       "      <td>1785 WEYERHAEUSER RD</td>\n",
       "      <td>VANCEBORO</td>\n",
       "      <td>CRAVEN</td>\n",
       "      <td>NC</td>\n",
       "      <td>28586</td>\n",
       "      <td>NaN</td>\n",
       "      <td>...</td>\n",
       "      <td>0.0</td>\n",
       "      <td>813521.0</td>\n",
       "      <td>0.0</td>\n",
       "      <td>860796.0</td>\n",
       "      <td>NaN</td>\n",
       "      <td>PRODUCTION</td>\n",
       "      <td>0.95</td>\n",
       "      <td>INTERNATIONAL PAPER CO</td>\n",
       "      <td>1316561.0</td>\n",
       "      <td>NaN</td>\n",
       "    </tr>\n",
       "  </tbody>\n",
       "</table>\n",
       "<p>5 rows × 110 columns</p>\n",
       "</div>"
      ],
      "text/plain": [
       "   YEAR  TRI_FACILITY_ID        FRS_ID  \\\n",
       "0  2014  28352LBBYWHWY74  110000710231   \n",
       "1  2014  28360LKYST88CAT  110001493090   \n",
       "2  2014  27017WYNFR1018E  110000345109   \n",
       "3  2014  27107STRHC4000O  110000345458   \n",
       "4  2014  28560WYRHSSTREE  110000350478   \n",
       "\n",
       "                                       FACILITY_NAME         STREET_ADDRESS  \\\n",
       "0                                      PILKINGTON NA    13121 ROCKY FORD RD   \n",
       "1                         ELKAY PLUMBING PRODUCTS CO         880 CATON ROAD   \n",
       "2               WAYNE FARMS LLC - DOBSON FRESH PLANT        802 E ATKINS ST   \n",
       "3  ARDAGH METAL BEVERAGE USA INC RE: WINSTON SALE...  4000 OLD MILWAUKEE LN   \n",
       "4                 INTERNATIONAL PAPER- NEW BERN MILL   1785 WEYERHAEUSER RD   \n",
       "\n",
       "            CITY    COUNTY  ST    ZIP  BIA_CODE      ...       \\\n",
       "0     LAURINBURG  SCOTLAND  NC  28352       NaN      ...        \n",
       "1      LUMBERTON   ROBESON  NC  28360       NaN      ...        \n",
       "2         DOBSON     SURRY  NC  27017       NaN      ...        \n",
       "3  WINSTON SALEM   FORSYTH  NC  27107       NaN      ...        \n",
       "4      VANCEBORO    CRAVEN  NC  28586       NaN      ...        \n",
       "\n",
       "   8.5_RECYCLING_OFF-SITE  8.6_TREATMENT_ON-SITE  8.7_TREATMENT_OFF-SITE  \\\n",
       "0                     0.0                10413.0                     0.0   \n",
       "1                 10214.0                    0.0                     0.0   \n",
       "2                     0.0                12028.5                     0.0   \n",
       "3                     0.0                78170.0                     0.0   \n",
       "4                     0.0               813521.0                     0.0   \n",
       "\n",
       "  PROD._WASTE_(8.1_THRU_8.7)  8.8_ONE-TIME_RELEASE PROD_RATIO_OR_ACTIVITY  \\\n",
       "0                    10934.0                   NaN             PRODUCTION   \n",
       "1                    10216.0                   NaN             PRODUCTION   \n",
       "2                    12150.0                   NaN             PRODUCTION   \n",
       "3                   501549.0                   NaN             PRODUCTION   \n",
       "4                   860796.0                   NaN             PRODUCTION   \n",
       "\n",
       "   8.9_PRODUCTION_RATIO      PARENT_COMPANY_NAME  PARENT_COMPANY_DB_NUMBER  \\\n",
       "0                  1.13      PILKINGTON N.A. INC               212371884.0   \n",
       "1                  1.03   ELKAY MANUFACTURING CO                 5080429.0   \n",
       "2                  1.02     CONTINENTAL GRAIN CO                 6982409.0   \n",
       "3                  1.02  ARDAGH HOLDINGS USA INC                80376954.0   \n",
       "4                  0.95   INTERNATIONAL PAPER CO                 1316561.0   \n",
       "\n",
       "   Unnamed: 109  \n",
       "0           NaN  \n",
       "1           NaN  \n",
       "2           NaN  \n",
       "3           NaN  \n",
       "4           NaN  \n",
       "\n",
       "[5 rows x 110 columns]"
      ]
     },
     "execution_count": 4,
     "metadata": {},
     "output_type": "execute_result"
    }
   ],
   "source": [
    "%pylab inline\n",
    "import numpy, csv\n",
    "import pandas as pd\n",
    "import matplotlib.pyplot as plt\n",
    "            \n",
    "NC14 = pd.read_csv(\"data\\TRI_2014_NC.csv\")\n",
    "NC14.head()\n"
   ]
  },
  {
   "cell_type": "code",
   "execution_count": 5,
   "metadata": {
    "collapsed": true
   },
   "outputs": [],
   "source": [
    "# \"cleaning dataset to Food Industry and useful columns\n",
    "temp=NC14[['INDUSTRY_SECTOR','TOTAL_RELEASES','ON-SITE_RELEASE_TOTAL','OFF-SITE_RELEASE_TOTAL']]\n",
    "this=temp[temp['INDUSTRY_SECTOR']== 'Food']\n",
    "NC14=this\n"
   ]
  },
  {
   "cell_type": "code",
   "execution_count": 6,
   "metadata": {},
   "outputs": [
    {
     "data": {
      "text/plain": [
       "TOTAL_RELEASES            68956.967930\n",
       "ON-SITE_RELEASE_TOTAL     68854.018812\n",
       "OFF-SITE_RELEASE_TOTAL       86.338824\n",
       "dtype: float64"
      ]
     },
     "execution_count": 6,
     "metadata": {},
     "output_type": "execute_result"
    }
   ],
   "source": [
    "#indexing data by industry sector and taking mean of each column\n",
    "NC14.index = NC14[\"INDUSTRY_SECTOR\"]\n",
    "NC14.mean()\n"
   ]
  },
  {
   "cell_type": "markdown",
   "metadata": {
    "collapsed": true
   },
   "source": [
    "Mean of total releass and on-site releases are similar while off-site releases are much lower...the mean of off-site releases plus on-site release should be close to total releases which it is"
   ]
  },
  {
   "cell_type": "markdown",
   "metadata": {},
   "source": [
    "### Median\n",
    "\n",
    "In the food sector the medians for each category are zero.... This means at least half the facilities have zero toxic releases whatsoever. Good Job!!"
   ]
  },
  {
   "cell_type": "code",
   "execution_count": 7,
   "metadata": {},
   "outputs": [
    {
     "data": {
      "text/plain": [
       "TOTAL_RELEASES            0.0\n",
       "ON-SITE_RELEASE_TOTAL     0.0\n",
       "OFF-SITE_RELEASE_TOTAL    0.0\n",
       "dtype: float64"
      ]
     },
     "execution_count": 7,
     "metadata": {},
     "output_type": "execute_result"
    }
   ],
   "source": [
    "#Taking the median of each column\n",
    "NC14.median() "
   ]
  },
  {
   "cell_type": "markdown",
   "metadata": {},
   "source": [
    "### Measures of spread  \n",
    "Range of Total release and on-site releases are large because some facilites had zero release both on-site and total, where some facilites had large toxic release and majority on those release coming on the site of the facility. Off-site release range being significally lower shows that the majority of TRI reporting facilites dont have much off-site toxic releases"
   ]
  },
  {
   "cell_type": "code",
   "execution_count": 8,
   "metadata": {},
   "outputs": [
    {
     "name": "stdout",
     "output_type": "stream",
     "text": [
      "3669339.0\n",
      "3668587.0\n",
      "3061.0\n"
     ]
    }
   ],
   "source": [
    "#measuring the spread of each column, max value - min value\n",
    "tot=max(NC14[\"TOTAL_RELEASES\"]) - min(NC14[\"TOTAL_RELEASES\"])\n",
    "ontot=max(NC14[\"ON-SITE_RELEASE_TOTAL\"]) - min(NC14[\"ON-SITE_RELEASE_TOTAL\"])\n",
    "oftot=max(NC14[\"OFF-SITE_RELEASE_TOTAL\"]) - min(NC14[\"OFF-SITE_RELEASE_TOTAL\"])\n",
    "\n",
    "print tot\n",
    "print ontot\n",
    "print oftot"
   ]
  },
  {
   "cell_type": "markdown",
   "metadata": {},
   "source": [
    "### Quartiles"
   ]
  },
  {
   "cell_type": "code",
   "execution_count": 9,
   "metadata": {},
   "outputs": [
    {
     "name": "stdout",
     "output_type": "stream",
     "text": [
      "[0.0, 0.0, 0.0, 506.01750000000004, 3669339.0]\n",
      "[0.0, 0.0, 0.0, 250.0, 3668587.0]\n",
      "[0.0, 0.0, 0.0, 0.0, 3061.0]\n"
     ]
    }
   ],
   "source": [
    "#taking quartiles of each column\n",
    "quartiletot = [NC14[\"TOTAL_RELEASES\"].quantile(0),   \n",
    "            NC14[\"TOTAL_RELEASES\"].quantile(0.25),\n",
    "            NC14[\"TOTAL_RELEASES\"].quantile(0.50),\n",
    "            NC14[\"TOTAL_RELEASES\"].quantile(0.75),\n",
    "            NC14[\"TOTAL_RELEASES\"].quantile(1)]\n",
    "\n",
    "\n",
    "quartileontot = [NC14[\"ON-SITE_RELEASE_TOTAL\"].quantile(0),   \n",
    "            NC14[\"ON-SITE_RELEASE_TOTAL\"].quantile(0.25),\n",
    "            NC14[\"ON-SITE_RELEASE_TOTAL\"].quantile(0.50),\n",
    "            NC14[\"ON-SITE_RELEASE_TOTAL\"].quantile(0.75),\n",
    "            NC14[\"ON-SITE_RELEASE_TOTAL\"].quantile(1)]\n",
    "\n",
    "quartileoftot = [NC14[\"OFF-SITE_RELEASE_TOTAL\"].quantile(0),   \n",
    "            NC14[\"OFF-SITE_RELEASE_TOTAL\"].quantile(0.25),\n",
    "            NC14[\"OFF-SITE_RELEASE_TOTAL\"].quantile(0.50),\n",
    "            NC14[\"OFF-SITE_RELEASE_TOTAL\"].quantile(0.75),\n",
    "            NC14[\"OFF-SITE_RELEASE_TOTAL\"].quantile(1)]\n",
    "\n",
    "print quartiletot\n",
    "print quartileontot\n",
    "print quartileoftot\n"
   ]
  },
  {
   "cell_type": "code",
   "execution_count": 10,
   "metadata": {},
   "outputs": [
    {
     "data": {
      "text/plain": [
       "count    1.360000e+02\n",
       "mean     6.895697e+04\n",
       "std      3.947171e+05\n",
       "min      0.000000e+00\n",
       "25%      0.000000e+00\n",
       "50%      0.000000e+00\n",
       "75%      5.060175e+02\n",
       "max      3.669339e+06\n",
       "Name: TOTAL_RELEASES, dtype: float64"
      ]
     },
     "execution_count": 10,
     "metadata": {},
     "output_type": "execute_result"
    }
   ],
   "source": [
    "NC14[\"TOTAL_RELEASES\"].describe()"
   ]
  },
  {
   "cell_type": "code",
   "execution_count": 11,
   "metadata": {},
   "outputs": [
    {
     "data": {
      "text/plain": [
       "count    1.360000e+02\n",
       "mean     6.885402e+04\n",
       "std      3.946419e+05\n",
       "min      0.000000e+00\n",
       "25%      0.000000e+00\n",
       "50%      0.000000e+00\n",
       "75%      2.500000e+02\n",
       "max      3.668587e+06\n",
       "Name: ON-SITE_RELEASE_TOTAL, dtype: float64"
      ]
     },
     "execution_count": 11,
     "metadata": {},
     "output_type": "execute_result"
    }
   ],
   "source": [
    "NC14[\"ON-SITE_RELEASE_TOTAL\"].describe()"
   ]
  },
  {
   "cell_type": "code",
   "execution_count": 12,
   "metadata": {},
   "outputs": [
    {
     "data": {
      "text/plain": [
       "count     136.000000\n",
       "mean       86.338824\n",
       "std       414.438069\n",
       "min         0.000000\n",
       "25%         0.000000\n",
       "50%         0.000000\n",
       "75%         0.000000\n",
       "max      3061.000000\n",
       "Name: OFF-SITE_RELEASE_TOTAL, dtype: float64"
      ]
     },
     "execution_count": 12,
     "metadata": {},
     "output_type": "execute_result"
    }
   ],
   "source": [
    "NC14[\"OFF-SITE_RELEASE_TOTAL\"].describe()"
   ]
  },
  {
   "cell_type": "markdown",
   "metadata": {},
   "source": [
    "### Interquartile (IQR) range"
   ]
  },
  {
   "cell_type": "code",
   "execution_count": 13,
   "metadata": {},
   "outputs": [
    {
     "data": {
      "text/plain": [
       "0.0"
      ]
     },
     "execution_count": 13,
     "metadata": {},
     "output_type": "execute_result"
    }
   ],
   "source": [
    "NC14[\"OFF-SITE_RELEASE_TOTAL\"].quantile(0.75)-NC14[\"OFF-SITE_RELEASE_TOTAL\"].quantile(0.25)"
   ]
  },
  {
   "cell_type": "code",
   "execution_count": 14,
   "metadata": {},
   "outputs": [
    {
     "data": {
      "text/plain": [
       "250.0"
      ]
     },
     "execution_count": 14,
     "metadata": {},
     "output_type": "execute_result"
    }
   ],
   "source": [
    "NC14[\"ON-SITE_RELEASE_TOTAL\"].quantile(0.75)-NC14[\"ON-SITE_RELEASE_TOTAL\"].quantile(0.25)"
   ]
  },
  {
   "cell_type": "code",
   "execution_count": 15,
   "metadata": {},
   "outputs": [
    {
     "data": {
      "text/plain": [
       "506.01750000000004"
      ]
     },
     "execution_count": 15,
     "metadata": {},
     "output_type": "execute_result"
    }
   ],
   "source": [
    "NC14[\"TOTAL_RELEASES\"].quantile(0.75)-NC14[\"TOTAL_RELEASES\"].quantile(0.25)"
   ]
  },
  {
   "cell_type": "markdown",
   "metadata": {},
   "source": [
    "### Visualization\n",
    "Total releases\n",
    "\n",
    "Here we can see that 2 facilities had total releases that exceeded other facilities by a large margin, these facilites skew the mean values drastically although have little to no effect on the median, There also are serveral facilities that had zero total releases that also skews the mean and with the median being zerom over half of the reporting facilities had no releases at all !\n",
    "\n",
    "On-site release total \n",
    "Similar to the total relases plot, the same two facilities with large total relases actually has those toxic releases right on the site of the facility.\n",
    "\n",
    "Off-site release total\n",
    "Immdiately you can see that there are much lower values for off site releases, as well as not really any outliers."
   ]
  },
  {
   "cell_type": "code",
   "execution_count": 16,
   "metadata": {},
   "outputs": [
    {
     "data": {
      "text/plain": [
       "<matplotlib.axes._subplots.AxesSubplot at 0xa237438>"
      ]
     },
     "execution_count": 16,
     "metadata": {},
     "output_type": "execute_result"
    },
    {
     "data": {
      "image/png": "[encoded data removed]",
      "text/plain": [
       "<matplotlib.figure.Figure at 0xa235d30>"
      ]
     },
     "metadata": {},
     "output_type": "display_data"
    }
   ],
   "source": [
    "NC14.boxplot(column=\"TOTAL_RELEASES\",\n",
    "               return_type='axes',\n",
    "               figsize=(50,50))"
   ]
  },
  {
   "cell_type": "code",
   "execution_count": 17,
   "metadata": {},
   "outputs": [
    {
     "data": {
      "text/plain": [
       "<matplotlib.axes._subplots.AxesSubplot at 0xa40e320>"
      ]
     },
     "execution_count": 17,
     "metadata": {},
     "output_type": "execute_result"
    },
    {
     "data": {
      "image/png": "[encoded data removed]",
      "text/plain": [
       "<matplotlib.figure.Figure at 0xa235748>"
      ]
     },
     "metadata": {},
     "output_type": "display_data"
    }
   ],
   "source": [
    "NC14.boxplot(column=\"ON-SITE_RELEASE_TOTAL\",\n",
    "               return_type='axes',\n",
    "               figsize=(50,50))"
   ]
  },
  {
   "cell_type": "code",
   "execution_count": 18,
   "metadata": {},
   "outputs": [
    {
     "data": {
      "text/plain": [
       "<matplotlib.axes._subplots.AxesSubplot at 0xba795c0>"
      ]
     },
     "execution_count": 18,
     "metadata": {},
     "output_type": "execute_result"
    },
    {
     "data": {
      "image/png": "[encoded data removed]",
      "text/plain": [
       "<matplotlib.figure.Figure at 0xbb07780>"
      ]
     },
     "metadata": {},
     "output_type": "display_data"
    }
   ],
   "source": [
    "NC14.boxplot(column=\"OFF-SITE_RELEASE_TOTAL\",\n",
    "               return_type='axes',\n",
    "               figsize=(50,50))"
   ]
  },
  {
   "cell_type": "code",
   "execution_count": 19,
   "metadata": {
    "collapsed": true
   },
   "outputs": [],
   "source": [
    "import seaborn as sns\n",
    "import scipy.stats as stats\n",
    "from IPython.display import HTML, display"
   ]
  },
  {
   "cell_type": "markdown",
   "metadata": {},
   "source": [
    "Ploting Total releases, on-site releases, and off-site releases \n",
    "### Cumulative distribution function (CDF)"
   ]
  },
  {
   "cell_type": "code",
   "execution_count": 20,
   "metadata": {},
   "outputs": [
    {
     "data": {
      "text/plain": [
       "<matplotlib.axes._subplots.AxesSubplot at 0xd0424e0>"
      ]
     },
     "execution_count": 20,
     "metadata": {},
     "output_type": "execute_result"
    },
    {
     "data": {
      "image/png": "[encoded data removed]",
      "text/plain": [
       "<matplotlib.figure.Figure at 0xd02ed68>"
      ]
     },
     "metadata": {},
     "output_type": "display_data"
    }
   ],
   "source": [
    "xtotal=stats.uniform.rvs(NC14['TOTAL_RELEASES'])\n",
    "sns.distplot(xtotal,\n",
    "             hist_kws=dict(cumulative=True),\n",
    "             kde_kws=dict(cumulative=True))"
   ]
  },
  {
   "cell_type": "code",
   "execution_count": 21,
   "metadata": {},
   "outputs": [
    {
     "data": {
      "text/plain": [
       "0.00030305185756889728"
      ]
     },
     "execution_count": 21,
     "metadata": {},
     "output_type": "execute_result"
    }
   ],
   "source": [
    "#CDF for total releases\n",
    "stats.uniform.cdf(x=1112,         # Cutoff value (quantile) to check\n",
    "                  loc=0,         # Distribution start\n",
    "                  scale=tot)      # Distribution end\n",
    "# chance between 0 and x value\n"
   ]
  },
  {
   "cell_type": "markdown",
   "metadata": {},
   "source": [
    "With x = 1112 the input for cdf, as excepted the probably is very low because alot of the total release values are quite high..but then again over half the reporting facilities have zero total releases, so this could be misleading"
   ]
  },
  {
   "cell_type": "code",
   "execution_count": 22,
   "metadata": {},
   "outputs": [
    {
     "data": {
      "text/plain": [
       "<matplotlib.axes._subplots.AxesSubplot at 0xd1fb6a0>"
      ]
     },
     "execution_count": 22,
     "metadata": {},
     "output_type": "execute_result"
    },
    {
     "data": {
      "image/png": "[encoded data removed]",
      "text/plain": [
       "<matplotlib.figure.Figure at 0xd133be0>"
      ]
     },
     "metadata": {},
     "output_type": "display_data"
    }
   ],
   "source": [
    "xonsite=stats.uniform.rvs(NC14['ON-SITE_RELEASE_TOTAL'])\n",
    "sns.distplot(xonsite,\n",
    "             hist_kws=dict(cumulative=True),\n",
    "             kde_kws=dict(cumulative=True))"
   ]
  },
  {
   "cell_type": "code",
   "execution_count": 23,
   "metadata": {},
   "outputs": [
    {
     "data": {
      "text/plain": [
       "0.00030311397821559092"
      ]
     },
     "execution_count": 23,
     "metadata": {},
     "output_type": "execute_result"
    }
   ],
   "source": [
    "#CDF for on-site releases \n",
    "stats.uniform.cdf(x=1112,         # Cutoff value (quantile) to check\n",
    "                  loc=0,         # Distribution start\n",
    "                  scale=ontot)      # Distribution end\n",
    "# chance between 0 and x value"
   ]
  },
  {
   "cell_type": "markdown",
   "metadata": {},
   "source": [
    "With x = 1112 the input for cdf, as excepted the probably is very low because alot of the on-site release values are quite high..but as with total releases over half the reporting facilities have zero on-site releases, so this could be misleading"
   ]
  },
  {
   "cell_type": "code",
   "execution_count": 24,
   "metadata": {},
   "outputs": [
    {
     "data": {
      "text/plain": [
       "<matplotlib.axes._subplots.AxesSubplot at 0xdac5ef0>"
      ]
     },
     "execution_count": 24,
     "metadata": {},
     "output_type": "execute_result"
    },
    {
     "data": {
      "image/png": "[encoded data removed]",
      "text/plain": [
       "<matplotlib.figure.Figure at 0xd5b2048>"
      ]
     },
     "metadata": {},
     "output_type": "display_data"
    }
   ],
   "source": [
    "xoffsite=stats.uniform.rvs(NC14['OFF-SITE_RELEASE_TOTAL'])\n",
    "sns.distplot(xoffsite,\n",
    "             hist_kws=dict(cumulative=True),\n",
    "             kde_kws=dict(cumulative=True))"
   ]
  },
  {
   "cell_type": "code",
   "execution_count": 25,
   "metadata": {},
   "outputs": [
    {
     "data": {
      "text/plain": [
       "0.36327997386475008"
      ]
     },
     "execution_count": 25,
     "metadata": {},
     "output_type": "execute_result"
    }
   ],
   "source": [
    "#CDF for off-site releases\n",
    "stats.uniform.cdf(x=1112,         # Cutoff value (quantile) to check\n",
    "                  loc=0,         # Distribution start\n",
    "                  scale=oftot)      # Distribution end\n",
    "# chance between 0 and x value"
   ]
  },
  {
   "cell_type": "markdown",
   "metadata": {},
   "source": [
    "With x = 1112 the input for cdf, the probability for off-site releases is much higher than the total release and on-site predictions with the same x value. This is likely because the range of off-site is much smaller, so a off-site release total is much more likely to fall between 0 and 1112"
   ]
  },
  {
   "cell_type": "markdown",
   "metadata": {},
   "source": [
    "### Method of Moments"
   ]
  },
  {
   "cell_type": "code",
   "execution_count": 26,
   "metadata": {},
   "outputs": [
    {
     "name": "stdout",
     "output_type": "stream",
     "text": [
      "68956.9679299\n",
      "1.55801604775e+11\n"
     ]
    }
   ],
   "source": [
    "total_mean=NC14['TOTAL_RELEASES'].mean()\n",
    "total_var=NC14['TOTAL_RELEASES'].var()\n",
    "print total_mean\n",
    "print total_var"
   ]
  },
  {
   "cell_type": "code",
   "execution_count": 27,
   "metadata": {},
   "outputs": [
    {
     "name": "stdout",
     "output_type": "stream",
     "text": [
      "0.0305199900408\n",
      "2259403.35621\n"
     ]
    }
   ],
   "source": [
    "alpha_total = total_mean ** 2 / total_var\n",
    "beta_total = total_var / total_mean\n",
    "print alpha_total\n",
    "print beta_total"
   ]
  },
  {
   "cell_type": "code",
   "execution_count": 28,
   "metadata": {},
   "outputs": [
    {
     "name": "stdout",
     "output_type": "stream",
     "text": [
      "68854.0188122\n",
      "1.55742259256e+11\n"
     ]
    }
   ],
   "source": [
    "onsite_mean=NC14['ON-SITE_RELEASE_TOTAL'].mean()\n",
    "onsite_var=NC14['ON-SITE_RELEASE_TOTAL'].var()\n",
    "print onsite_mean\n",
    "print onsite_var"
   ]
  },
  {
   "cell_type": "code",
   "execution_count": 29,
   "metadata": {},
   "outputs": [
    {
     "name": "stdout",
     "output_type": "stream",
     "text": [
      "0.0304405235241\n",
      "2261919.66632\n"
     ]
    }
   ],
   "source": [
    "alpha_onsite = onsite_mean ** 2 / onsite_var\n",
    "beta_onsite = onsite_var / onsite_mean\n",
    "print alpha_onsite\n",
    "print beta_onsite"
   ]
  },
  {
   "cell_type": "code",
   "execution_count": 30,
   "metadata": {},
   "outputs": [
    {
     "name": "stdout",
     "output_type": "stream",
     "text": [
      "86.3388235294\n",
      "171758.913391\n"
     ]
    }
   ],
   "source": [
    "offsite_mean=NC14['OFF-SITE_RELEASE_TOTAL'].mean()\n",
    "offsite_var=NC14['OFF-SITE_RELEASE_TOTAL'].var()\n",
    "print offsite_mean\n",
    "print offsite_var"
   ]
  },
  {
   "cell_type": "code",
   "execution_count": 31,
   "metadata": {},
   "outputs": [
    {
     "name": "stdout",
     "output_type": "stream",
     "text": [
      "0.0434003237518\n",
      "1989.35897398\n"
     ]
    }
   ],
   "source": [
    "alpha_offsite = offsite_mean ** 2 / offsite_var\n",
    "beta_offsite = offsite_var / offsite_mean\n",
    "print alpha_offsite\n",
    "print beta_offsite"
   ]
  },
  {
   "cell_type": "markdown",
   "metadata": {
    "collapsed": true
   },
   "source": [
    "North Carolina food industry vs United States food industry\n",
    "\n",
    "### Null hypothesis\n",
    "Releases totals in North Carolina are significantly different than the National average"
   ]
  },
  {
   "cell_type": "code",
   "execution_count": 34,
   "metadata": {},
   "outputs": [
    {
     "data": {
      "text/html": [
       "<div>\n",
       "<style>\n",
       "    .dataframe thead tr:only-child th {\n",
       "        text-align: right;\n",
       "    }\n",
       "\n",
       "    .dataframe thead th {\n",
       "        text-align: left;\n",
       "    }\n",
       "\n",
       "    .dataframe tbody tr th {\n",
       "        vertical-align: top;\n",
       "    }\n",
       "</style>\n",
       "<table border=\"1\" class=\"dataframe\">\n",
       "  <thead>\n",
       "    <tr style=\"text-align: right;\">\n",
       "      <th></th>\n",
       "      <th>YEAR</th>\n",
       "      <th>TRI_FACILITY_ID</th>\n",
       "      <th>FRS_ID</th>\n",
       "      <th>FACILITY_NAME</th>\n",
       "      <th>STREET_ADDRESS</th>\n",
       "      <th>CITY</th>\n",
       "      <th>COUNTY</th>\n",
       "      <th>ST</th>\n",
       "      <th>ZIP</th>\n",
       "      <th>BIA_CODE</th>\n",
       "      <th>...</th>\n",
       "      <th>8.7_TREATMENT_OFF-SITE</th>\n",
       "      <th>PROD._WASTE_(8.1_THRU_8.7)</th>\n",
       "      <th>8.8_ONE-TIME_RELEASE</th>\n",
       "      <th>PROD_RATIO_OR_ACTIVITY</th>\n",
       "      <th>8.9_PRODUCTION_RATIO</th>\n",
       "      <th>PARENT_COMPANY_NAME</th>\n",
       "      <th>PARENT_COMPANY_DB_NUMBER</th>\n",
       "      <th>SYS_STSITSSXSOLCHJPSAF7486K4RV</th>\n",
       "      <th>SYS_STSWGMX8O#197_NPUKVK#S5$QM</th>\n",
       "      <th>Unnamed: 111</th>\n",
       "    </tr>\n",
       "  </thead>\n",
       "  <tbody>\n",
       "    <tr>\n",
       "      <th>0</th>\n",
       "      <td>2014</td>\n",
       "      <td>30170WNSLYGEORG</td>\n",
       "      <td>110046233919</td>\n",
       "      <td>WANSLEY STEAM ELECTRIC GENERATING PLANT</td>\n",
       "      <td>1371 LIBERTY CHURCH RD</td>\n",
       "      <td>CARROLLTON</td>\n",
       "      <td>HEARD</td>\n",
       "      <td>GA</td>\n",
       "      <td>30116</td>\n",
       "      <td>NaN</td>\n",
       "      <td>...</td>\n",
       "      <td>0.0</td>\n",
       "      <td>0.0</td>\n",
       "      <td>0.0</td>\n",
       "      <td>NaN</td>\n",
       "      <td>0.00</td>\n",
       "      <td>SOUTHERN CO CO-OWNED</td>\n",
       "      <td>NaN</td>\n",
       "      <td>7404685178570634201</td>\n",
       "      <td>15823560136406999002</td>\n",
       "      <td>NaN</td>\n",
       "    </tr>\n",
       "    <tr>\n",
       "      <th>1</th>\n",
       "      <td>2014</td>\n",
       "      <td>83687GRTWS1717E</td>\n",
       "      <td>110000468663</td>\n",
       "      <td>BHS MARKETING LLC</td>\n",
       "      <td>1717 E FARGO AVE.</td>\n",
       "      <td>NAMPA</td>\n",
       "      <td>CANYON</td>\n",
       "      <td>ID</td>\n",
       "      <td>83687</td>\n",
       "      <td>NaN</td>\n",
       "      <td>...</td>\n",
       "      <td>0.0</td>\n",
       "      <td>30566.0</td>\n",
       "      <td>NaN</td>\n",
       "      <td>PRODUCTION</td>\n",
       "      <td>1.00</td>\n",
       "      <td>NaN</td>\n",
       "      <td>NaN</td>\n",
       "      <td>4496232321769466624</td>\n",
       "      <td>6840205277923857774</td>\n",
       "      <td>NaN</td>\n",
       "    </tr>\n",
       "    <tr>\n",
       "      <th>2</th>\n",
       "      <td>2014</td>\n",
       "      <td>06516DTSCH14FAR</td>\n",
       "      <td>110000316907</td>\n",
       "      <td>DEITSCH PLASTIC CO INC</td>\n",
       "      <td>14 FARWELL ST</td>\n",
       "      <td>WEST HAVEN</td>\n",
       "      <td>NEW HAVEN</td>\n",
       "      <td>CT</td>\n",
       "      <td>6516</td>\n",
       "      <td>NaN</td>\n",
       "      <td>...</td>\n",
       "      <td>0.0</td>\n",
       "      <td>22054.0</td>\n",
       "      <td>NaN</td>\n",
       "      <td>PRODUCTION</td>\n",
       "      <td>1.07</td>\n",
       "      <td>NaN</td>\n",
       "      <td>NaN</td>\n",
       "      <td>12178759782761333358</td>\n",
       "      <td>11933647990512866808</td>\n",
       "      <td>NaN</td>\n",
       "    </tr>\n",
       "    <tr>\n",
       "      <th>3</th>\n",
       "      <td>2014</td>\n",
       "      <td>87045PLNSSCOUNT</td>\n",
       "      <td>110000758797</td>\n",
       "      <td>TRI-STATE GENERATION &amp; TRANSMISSION - ESCALANT...</td>\n",
       "      <td>COUNTY RD 19</td>\n",
       "      <td>PREWITT</td>\n",
       "      <td>MCKINLEY</td>\n",
       "      <td>NM</td>\n",
       "      <td>87045</td>\n",
       "      <td>NaN</td>\n",
       "      <td>...</td>\n",
       "      <td>0.0</td>\n",
       "      <td>56883.0</td>\n",
       "      <td>NaN</td>\n",
       "      <td>PRODUCTION</td>\n",
       "      <td>0.92</td>\n",
       "      <td>NaN</td>\n",
       "      <td>NaN</td>\n",
       "      <td>2379444628039041909</td>\n",
       "      <td>17523950876758001578</td>\n",
       "      <td>NaN</td>\n",
       "    </tr>\n",
       "    <tr>\n",
       "      <th>4</th>\n",
       "      <td>2014</td>\n",
       "      <td>53546SSTCH3330P</td>\n",
       "      <td>110001135806</td>\n",
       "      <td>SSI TECHNOLOGIES SINTERED SPEC IALTIES DIV</td>\n",
       "      <td>3330 PALMER DR</td>\n",
       "      <td>JANESVILLE</td>\n",
       "      <td>ROCK</td>\n",
       "      <td>WI</td>\n",
       "      <td>53546</td>\n",
       "      <td>NaN</td>\n",
       "      <td>...</td>\n",
       "      <td>0.0</td>\n",
       "      <td>170713.0</td>\n",
       "      <td>NaN</td>\n",
       "      <td>PRODUCTION</td>\n",
       "      <td>1.03</td>\n",
       "      <td>NaN</td>\n",
       "      <td>NaN</td>\n",
       "      <td>3122245006422871575</td>\n",
       "      <td>4395391234725583800</td>\n",
       "      <td>NaN</td>\n",
       "    </tr>\n",
       "  </tbody>\n",
       "</table>\n",
       "<p>5 rows × 112 columns</p>\n",
       "</div>"
      ],
      "text/plain": [
       "   YEAR  TRI_FACILITY_ID        FRS_ID  \\\n",
       "0  2014  30170WNSLYGEORG  110046233919   \n",
       "1  2014  83687GRTWS1717E  110000468663   \n",
       "2  2014  06516DTSCH14FAR  110000316907   \n",
       "3  2014  87045PLNSSCOUNT  110000758797   \n",
       "4  2014  53546SSTCH3330P  110001135806   \n",
       "\n",
       "                                       FACILITY_NAME          STREET_ADDRESS  \\\n",
       "0            WANSLEY STEAM ELECTRIC GENERATING PLANT  1371 LIBERTY CHURCH RD   \n",
       "1                                  BHS MARKETING LLC       1717 E FARGO AVE.   \n",
       "2                             DEITSCH PLASTIC CO INC           14 FARWELL ST   \n",
       "3  TRI-STATE GENERATION & TRANSMISSION - ESCALANT...            COUNTY RD 19   \n",
       "4         SSI TECHNOLOGIES SINTERED SPEC IALTIES DIV          3330 PALMER DR   \n",
       "\n",
       "         CITY     COUNTY  ST    ZIP  BIA_CODE      ...       \\\n",
       "0  CARROLLTON      HEARD  GA  30116       NaN      ...        \n",
       "1       NAMPA     CANYON  ID  83687       NaN      ...        \n",
       "2  WEST HAVEN  NEW HAVEN  CT   6516       NaN      ...        \n",
       "3     PREWITT   MCKINLEY  NM  87045       NaN      ...        \n",
       "4  JANESVILLE       ROCK  WI  53546       NaN      ...        \n",
       "\n",
       "  8.7_TREATMENT_OFF-SITE  PROD._WASTE_(8.1_THRU_8.7)  8.8_ONE-TIME_RELEASE  \\\n",
       "0                    0.0                         0.0                   0.0   \n",
       "1                    0.0                     30566.0                   NaN   \n",
       "2                    0.0                     22054.0                   NaN   \n",
       "3                    0.0                     56883.0                   NaN   \n",
       "4                    0.0                    170713.0                   NaN   \n",
       "\n",
       "  PROD_RATIO_OR_ACTIVITY  8.9_PRODUCTION_RATIO   PARENT_COMPANY_NAME  \\\n",
       "0                    NaN                  0.00  SOUTHERN CO CO-OWNED   \n",
       "1             PRODUCTION                  1.00                   NaN   \n",
       "2             PRODUCTION                  1.07                   NaN   \n",
       "3             PRODUCTION                  0.92                   NaN   \n",
       "4             PRODUCTION                  1.03                   NaN   \n",
       "\n",
       "   PARENT_COMPANY_DB_NUMBER  SYS_STSITSSXSOLCHJPSAF7486K4RV  \\\n",
       "0                       NaN             7404685178570634201   \n",
       "1                       NaN             4496232321769466624   \n",
       "2                       NaN            12178759782761333358   \n",
       "3                       NaN             2379444628039041909   \n",
       "4                       NaN             3122245006422871575   \n",
       "\n",
       "   SYS_STSWGMX8O#197_NPUKVK#S5$QM  Unnamed: 111  \n",
       "0            15823560136406999002           NaN  \n",
       "1             6840205277923857774           NaN  \n",
       "2            11933647990512866808           NaN  \n",
       "3            17523950876758001578           NaN  \n",
       "4             4395391234725583800           NaN  \n",
       "\n",
       "[5 rows x 112 columns]"
      ]
     },
     "execution_count": 34,
     "metadata": {},
     "output_type": "execute_result"
    }
   ],
   "source": [
    "US14 = pd.read_csv(\"data\\TRI_2014_US.csv\")\n",
    "US14.head()"
   ]
  },
  {
   "cell_type": "code",
   "execution_count": 35,
   "metadata": {},
   "outputs": [
    {
     "data": {
      "text/html": [
       "<div>\n",
       "<style>\n",
       "    .dataframe thead tr:only-child th {\n",
       "        text-align: right;\n",
       "    }\n",
       "\n",
       "    .dataframe thead th {\n",
       "        text-align: left;\n",
       "    }\n",
       "\n",
       "    .dataframe tbody tr th {\n",
       "        vertical-align: top;\n",
       "    }\n",
       "</style>\n",
       "<table border=\"1\" class=\"dataframe\">\n",
       "  <thead>\n",
       "    <tr style=\"text-align: right;\">\n",
       "      <th></th>\n",
       "      <th>INDUSTRY_SECTOR</th>\n",
       "      <th>TOTAL_RELEASES</th>\n",
       "      <th>ON-SITE_RELEASE_TOTAL</th>\n",
       "      <th>OFF-SITE_RELEASE_TOTAL</th>\n",
       "    </tr>\n",
       "  </thead>\n",
       "  <tbody>\n",
       "    <tr>\n",
       "      <th>37</th>\n",
       "      <td>Food</td>\n",
       "      <td>184840.33</td>\n",
       "      <td>184840.33</td>\n",
       "      <td>0.0</td>\n",
       "    </tr>\n",
       "    <tr>\n",
       "      <th>44</th>\n",
       "      <td>Food</td>\n",
       "      <td>15913.20</td>\n",
       "      <td>15913.20</td>\n",
       "      <td>0.0</td>\n",
       "    </tr>\n",
       "    <tr>\n",
       "      <th>132</th>\n",
       "      <td>Food</td>\n",
       "      <td>0.00</td>\n",
       "      <td>0.00</td>\n",
       "      <td>0.0</td>\n",
       "    </tr>\n",
       "    <tr>\n",
       "      <th>149</th>\n",
       "      <td>Food</td>\n",
       "      <td>15653.00</td>\n",
       "      <td>13164.00</td>\n",
       "      <td>2489.0</td>\n",
       "    </tr>\n",
       "    <tr>\n",
       "      <th>151</th>\n",
       "      <td>Food</td>\n",
       "      <td>0.00</td>\n",
       "      <td>0.00</td>\n",
       "      <td>0.0</td>\n",
       "    </tr>\n",
       "  </tbody>\n",
       "</table>\n",
       "</div>"
      ],
      "text/plain": [
       "    INDUSTRY_SECTOR  TOTAL_RELEASES  ON-SITE_RELEASE_TOTAL  \\\n",
       "37             Food       184840.33              184840.33   \n",
       "44             Food        15913.20               15913.20   \n",
       "132            Food            0.00                   0.00   \n",
       "149            Food        15653.00               13164.00   \n",
       "151            Food            0.00                   0.00   \n",
       "\n",
       "     OFF-SITE_RELEASE_TOTAL  \n",
       "37                      0.0  \n",
       "44                      0.0  \n",
       "132                     0.0  \n",
       "149                  2489.0  \n",
       "151                     0.0  "
      ]
     },
     "execution_count": 35,
     "metadata": {},
     "output_type": "execute_result"
    }
   ],
   "source": [
    "tempUS=US14[['INDUSTRY_SECTOR','TOTAL_RELEASES','ON-SITE_RELEASE_TOTAL','OFF-SITE_RELEASE_TOTAL']]\n",
    "thisUS=tempUS[tempUS['INDUSTRY_SECTOR']== 'Food']\n",
    "US14=thisUS\n",
    "US14.head()"
   ]
  },
  {
   "cell_type": "code",
   "execution_count": 36,
   "metadata": {},
   "outputs": [
    {
     "data": {
      "text/plain": [
       "TOTAL_RELEASES            37707.000928\n",
       "ON-SITE_RELEASE_TOTAL     33583.888408\n",
       "OFF-SITE_RELEASE_TOTAL     3291.649192\n",
       "dtype: float64"
      ]
     },
     "execution_count": 36,
     "metadata": {},
     "output_type": "execute_result"
    }
   ],
   "source": [
    "US14.index = US14[\"INDUSTRY_SECTOR\"]\n",
    "US14.mean()"
   ]
  },
  {
   "cell_type": "code",
   "execution_count": 37,
   "metadata": {
    "collapsed": true
   },
   "outputs": [],
   "source": [
    "total_USmean=US14['TOTAL_RELEASES'].mean()\n",
    "onsite_USmean=US14['ON-SITE_RELEASE_TOTAL'].mean()\n",
    "offsite_USmean=US14['OFF-SITE_RELEASE_TOTAL'].mean()\n"
   ]
  },
  {
   "cell_type": "code",
   "execution_count": 38,
   "metadata": {},
   "outputs": [
    {
     "data": {
      "text/plain": [
       "Ttest_1sampResult(statistic=0.92327920475007297, pvalue=0.35750896442847369)"
      ]
     },
     "execution_count": 38,
     "metadata": {},
     "output_type": "execute_result"
    }
   ],
   "source": [
    "stats.ttest_1samp(a= NC14['TOTAL_RELEASES'],    # Sample data\n",
    "                 popmean= total_USmean)  # Pop mean"
   ]
  },
  {
   "cell_type": "markdown",
   "metadata": {},
   "source": [
    "p-value of .35 is very high, thus we can not reject the null hypothesis with respect to Total releases\n",
    "so indeed total release value in North Carolina are significantly different than the National average"
   ]
  },
  {
   "cell_type": "code",
   "execution_count": 39,
   "metadata": {},
   "outputs": [
    {
     "data": {
      "text/plain": [
       "Ttest_1sampResult(statistic=1.0422533131394476, pvalue=0.29915712081475282)"
      ]
     },
     "execution_count": 39,
     "metadata": {},
     "output_type": "execute_result"
    }
   ],
   "source": [
    "stats.ttest_1samp(a= NC14['ON-SITE_RELEASE_TOTAL'],    # Sample data\n",
    "                 popmean= onsite_USmean)  # Pop mean"
   ]
  },
  {
   "cell_type": "markdown",
   "metadata": {},
   "source": [
    "p-value of .29 is very high, thus we can not reject the null hypothesis with respect to On-site release totals\n",
    "so indeed on-site release total values in North Carolina are significantly different than the National average"
   ]
  },
  {
   "cell_type": "code",
   "execution_count": 40,
   "metadata": {},
   "outputs": [
    {
     "data": {
      "text/plain": [
       "Ttest_1sampResult(statistic=-90.194467873058812, pvalue=1.6041640505466584e-122)"
      ]
     },
     "execution_count": 40,
     "metadata": {},
     "output_type": "execute_result"
    }
   ],
   "source": [
    "stats.ttest_1samp(a= NC14['OFF-SITE_RELEASE_TOTAL'],    # Sample data\n",
    "                 popmean= offsite_USmean)  # Pop mean"
   ]
  },
  {
   "cell_type": "markdown",
   "metadata": {},
   "source": [
    "p-value of 1.6041640505466584e-122 is extremely low, thus we can reject the null hypothesis with respect to off-site total releases.\n",
    "So in contrast to total releases and on-site releases totals, off-site release totals in North Carolina are very simliar to the National average"
   ]
  },
  {
   "cell_type": "code",
   "execution_count": null,
   "metadata": {
    "collapsed": true
   },
   "outputs": [],
   "source": []
  },
  {
   "cell_type": "code",
   "execution_count": 41,
   "metadata": {},
   "outputs": [
    {
     "data": {
      "text/plain": [
       "<matplotlib.axes._subplots.AxesSubplot at 0x146b1e10>"
      ]
     },
     "execution_count": 41,
     "metadata": {},
     "output_type": "execute_result"
    },
    {
     "data": {
      "image/png": "[encoded data removed]",
      "text/plain": [
       "<matplotlib.figure.Figure at 0x15cc0b38>"
      ]
     },
     "metadata": {},
     "output_type": "display_data"
    }
   ],
   "source": [
    "fig, axs = plt.subplots(1, 2, sharey=True)\n",
    "NC14.plot(kind='scatter', x='OFF-SITE_RELEASE_TOTAL', y='TOTAL_RELEASES', ax=axs[0], figsize=(16, 8))\n",
    "NC14.plot(kind='scatter', x='ON-SITE_RELEASE_TOTAL', y='TOTAL_RELEASES', ax=axs[1])\n"
   ]
  },
  {
   "cell_type": "markdown",
   "metadata": {},
   "source": [
    " As I expected the correlation between off-site releases and total releases would be minimal compared to the correlation between on-site releases and total releases."
   ]
  },
  {
   "cell_type": "code",
   "execution_count": 42,
   "metadata": {},
   "outputs": [
    {
     "data": {
      "text/plain": [
       "Intercept    57193.851468\n",
       "offtotal       136.243650\n",
       "dtype: float64"
      ]
     },
     "execution_count": 42,
     "metadata": {},
     "output_type": "execute_result"
    }
   ],
   "source": [
    "# this is the standard import if you're using \"formula notation\" (similar to R)\n",
    "import statsmodels.formula.api as smf\n",
    "offtotal=NC14['OFF-SITE_RELEASE_TOTAL']\n",
    "# create a fitted model in one line\n",
    "lmoff = smf.ols(formula='TOTAL_RELEASES ~ offtotal', data=NC14).fit()\n",
    "\n",
    "# print the coefficients\n",
    "lmoff.params"
   ]
  },
  {
   "cell_type": "code",
   "execution_count": 43,
   "metadata": {},
   "outputs": [
    {
     "data": {
      "text/plain": [
       "125315.67646799999"
      ]
     },
     "execution_count": 43,
     "metadata": {},
     "output_type": "execute_result"
    }
   ],
   "source": [
    "57193.851468 + 136.243650* 500"
   ]
  },
  {
   "cell_type": "markdown",
   "metadata": {},
   "source": [
    "If a facility had 500 pounds of off-site releases, prediction on total releases would be about 125315 pounds"
   ]
  },
  {
   "cell_type": "code",
   "execution_count": 44,
   "metadata": {},
   "outputs": [
    {
     "data": {
      "text/plain": [
       "Intercept    0.098248\n",
       "offtotal     0.096633\n",
       "dtype: float64"
      ]
     },
     "execution_count": 44,
     "metadata": {},
     "output_type": "execute_result"
    }
   ],
   "source": [
    "lmoff.pvalues"
   ]
  },
  {
   "cell_type": "code",
   "execution_count": 45,
   "metadata": {},
   "outputs": [
    {
     "data": {
      "text/plain": [
       "0.020463499149780406"
      ]
     },
     "execution_count": 45,
     "metadata": {},
     "output_type": "execute_result"
    }
   ],
   "source": [
    "lmoff.rsquared"
   ]
  },
  {
   "cell_type": "code",
   "execution_count": 46,
   "metadata": {},
   "outputs": [
    {
     "data": {
      "text/plain": [
       "<matplotlib.legend.Legend at 0x122be2b0>"
      ]
     },
     "execution_count": 46,
     "metadata": {},
     "output_type": "execute_result"
    },
    {
     "data": {
      "image/png": "[encoded data removed]",
      "text/plain": [
       "<matplotlib.figure.Figure at 0x13c088d0>"
      ]
     },
     "metadata": {},
     "output_type": "display_data"
    }
   ],
   "source": [
    "plt.figure(figsize=(8 * 1.618, 8))\n",
    "\n",
    "plt.scatter(NC14['OFF-SITE_RELEASE_TOTAL'], NC14['TOTAL_RELEASES'])\n",
    "\n",
    "df1 = NC14\n",
    "\n",
    "poly_1 = smf.ols(formula='TOTAL_RELEASES ~ 1 + offtotal', data=NC14).fit()\n",
    "\n",
    "x=pd.DataFrame({'offtotal': np.linspace(NC14['OFF-SITE_RELEASE_TOTAL'].min(), NC14['OFF-SITE_RELEASE_TOTAL'].max(), 4000)})\n",
    "\n",
    "plt.plot(x.offtotal, poly_1.predict(x), 'b-', label='Poly n=1 $R^2$=%.2f' % poly_1.rsquared, alpha=0.9)\n",
    "\n",
    "# 2-nd order polynomial\n",
    "poly_2 = smf.ols(formula='TOTAL_RELEASES ~ 1 + offtotal + I(offtotal ** 2.0)', data=NC14).fit()\n",
    "plt.plot(x.offtotal, poly_2.predict(x), 'g-', label='Poly n=2 $R^2$=%.2f' % poly_2.rsquared, alpha=0.9)\n",
    "\n",
    "# 3-rd order polynomial\n",
    "poly_3 = smf.ols(formula='TOTAL_RELEASES ~ 1 + offtotal + I(offtotal ** 2.0) + I(offtotal ** 3.0)', data=NC14).fit()\n",
    "plt.plot(x.offtotal, poly_3.predict(x), 'r-', alpha=0.9, label='Poly n=3 $R^2$=%.2f' % poly_3.rsquared)\n",
    "\n",
    "plt.legend()"
   ]
  },
  {
   "cell_type": "markdown",
   "metadata": {},
   "source": [
    "None of the models seem to \"fit\" the data for off site release values as the off site values have very little correlation to the total release values"
   ]
  },
  {
   "cell_type": "code",
   "execution_count": 47,
   "metadata": {},
   "outputs": [
    {
     "data": {
      "text/plain": [
       "Intercept    89.887548\n",
       "ontotal       1.000190\n",
       "dtype: float64"
      ]
     },
     "execution_count": 47,
     "metadata": {},
     "output_type": "execute_result"
    }
   ],
   "source": [
    "ontotal=NC14['ON-SITE_RELEASE_TOTAL']\n",
    "# create a fitted model in one line\n",
    "lmon = smf.ols(formula='TOTAL_RELEASES ~ ontotal', data=NC14).fit()\n",
    "\n",
    "# print the coefficients\n",
    "lmon.params"
   ]
  },
  {
   "cell_type": "code",
   "execution_count": 48,
   "metadata": {},
   "outputs": [
    {
     "data": {
      "text/plain": [
       "75104.137548"
      ]
     },
     "execution_count": 48,
     "metadata": {},
     "output_type": "execute_result"
    }
   ],
   "source": [
    "89.887548 + 1.000190 * 75000"
   ]
  },
  {
   "cell_type": "code",
   "execution_count": 49,
   "metadata": {},
   "outputs": [
    {
     "data": {
      "text/plain": [
       "Intercept    0.042176\n",
       "ontotal      0.000000\n",
       "dtype: float64"
      ]
     },
     "execution_count": 49,
     "metadata": {},
     "output_type": "execute_result"
    }
   ],
   "source": [
    "lmon.pvalues"
   ]
  },
  {
   "cell_type": "markdown",
   "metadata": {},
   "source": [
    "If a facility had 75000 pounds of on-site releases, prediction on total releases would be about 75104 pounds"
   ]
  },
  {
   "cell_type": "code",
   "execution_count": 50,
   "metadata": {},
   "outputs": [
    {
     "data": {
      "text/plain": [
       "<matplotlib.legend.Legend at 0x13c08dd8>"
      ]
     },
     "execution_count": 50,
     "metadata": {},
     "output_type": "execute_result"
    },
    {
     "data": {
      "image/png": "[encoded data removed]",
      "text/plain": [
       "<matplotlib.figure.Figure at 0x148bc240>"
      ]
     },
     "metadata": {},
     "output_type": "display_data"
    }
   ],
   "source": [
    "plt.figure(figsize=(8 * 1.618, 8))\n",
    "\n",
    "plt.scatter(NC14['ON-SITE_RELEASE_TOTAL'], NC14['TOTAL_RELEASES'])\n",
    "\n",
    "df1 = NC14\n",
    "\n",
    "poly_1 = smf.ols(formula='TOTAL_RELEASES ~ 1 + ontotal', data=NC14).fit()\n",
    "\n",
    "x=pd.DataFrame({'ontotal': np.linspace(NC14['ON-SITE_RELEASE_TOTAL'].min(), NC14['ON-SITE_RELEASE_TOTAL'].max(), 4000)})\n",
    "\n",
    "plt.plot(x.ontotal, poly_1.predict(x), 'b-', label='Poly n=1 $R^2$=%.2f' % poly_1.rsquared, alpha=0.9)\n",
    "\n",
    "plt.legend()"
   ]
  },
  {
   "cell_type": "markdown",
   "metadata": {},
   "source": [
    "As you can clearly see that this lineer regression model for on-site releases as related to total releases has a very good best fit line which would likely allow you to accurately predict a facilities total release values based on its on-site release totals"
   ]
  },
  {
   "cell_type": "code",
   "execution_count": null,
   "metadata": {
    "collapsed": true
   },
   "outputs": [],
   "source": []
  }
 ],
 "metadata": {
  "kernelspec": {
   "display_name": "Python 2",
   "language": "python",
   "name": "python2"
  },
  "language_info": {
   "codemirror_mode": {
    "name": "ipython",
    "version": 2
   },
   "file_extension": ".py",
   "mimetype": "text/x-python",
   "name": "python",
   "nbconvert_exporter": "python",
   "pygments_lexer": "ipython2",
   "version": "2.7.13"
  }
 },
 "nbformat": 4,
 "nbformat_minor": 2
}
