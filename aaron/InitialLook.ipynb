{
 "cells": [
  {
   "cell_type": "markdown",
   "metadata": {},
   "source": [
    "# Initial Exploration of the Zhvi_AllHomes and TRI 2011-2015 US Data\n",
    "\n",
    "An initial peek at the data present in the Zillow and TRI sets, doing a simple comparison of average home prices in a zip code and the total number of TRI reports for that zip code."
   ]
  },
  {
   "cell_type": "code",
   "execution_count": 1,
   "metadata": {},
   "outputs": [
    {
     "name": "stdout",
     "output_type": "stream",
     "text": [
      "Populating the interactive namespace from numpy and matplotlib\n"
     ]
    }
   ],
   "source": [
    "%pylab inline\n",
    "import numpy, pandas\n",
    "# The below option suppresses a warning about making changes diretly to a DataFrame\n",
    "pandas.options.mode.chained_assignment = None"
   ]
  },
  {
   "cell_type": "code",
   "execution_count": 2,
   "metadata": {
    "collapsed": true
   },
   "outputs": [],
   "source": [
    "# Read in the relevant data files\n",
    "zhvi = pandas.read_csv(\"DATA/ZILLOW_DATA/Zip_Zhvi_AllHomes.csv\")\n",
    "\n",
    "tri2011 = pandas.read_csv(\"DATA/TRI_DATA/TRI_2011_US.csv\", dtype={'NAICS_2': object, 'NAICS_3': object, 'NAICS_4': object, 'NAICS_5': object, 'PARENT_COMPANY_DB_NUMBER': object})\n",
    "tri2012 = pandas.read_csv(\"DATA/TRI_DATA/TRI_2012_US.csv\", dtype={'NAICS_2': object, 'NAICS_3': object, 'NAICS_4': object, 'NAICS_5': object, 'PARENT_COMPANY_DB_NUMBER': object})\n",
    "tri2013 = pandas.read_csv(\"DATA/TRI_DATA/TRI_2013_US.csv\", dtype={'TRIBE': object, 'PARENT_COMPANY_DB_NUMBER': object})\n",
    "tri2014 = pandas.read_csv(\"DATA/TRI_DATA/TRI_2014_US.csv\", dtype={'PARENT_COMPANY_DB_NUMBER': object})\n",
    "tri2015 = pandas.read_csv(\"DATA/TRI_DATA/TRI_2015_US.csv\", dtype={'PARENT_COMPANY_DB_NUMBER': object})"
   ]
  },
  {
   "cell_type": "markdown",
   "metadata": {},
   "source": [
    "## Cleaning up the TRI data\n",
    "\n",
    "A few notes on the ZIP codes found in the TRI datasets:\n",
    "\n",
    "If a zip code has leading 0's in it, pandas drops the 0's as it reads in the data.\n",
    "For example, 04276, the ZIP for Rumford, ME becomes 4276. Any ZIP shorter than 5 digits should be read as having leading 0's to bring it to 5 digits\n",
    "\n",
    "In some cases, full 9 digit ZIPs are recorded. The trailing 4 digits are used to provide further specificity to the Postal Service within the leading 5 digit ZIP, and as such are not needed for our purposes. The method below takes a series of ZIPs from a TRI dataset and reformats any 9 digit ZIPs to 5 digits\n",
    "\n",
    "### Sorting and Organizing\n",
    "Once the ZIPs have been cleaned up, I'm re-ordering the data by ZIP code, as well as counting the total number of reports filed in a zip code per year in the TRI data"
   ]
  },
  {
   "cell_type": "code",
   "execution_count": 3,
   "metadata": {
    "collapsed": true
   },
   "outputs": [],
   "source": [
    "def cleanTriZIP(zips):\n",
    "    \"\"\"\n",
    "    Re-formats 9 digit zip codes in the TRI dataset to 5 digit zip codes\n",
    "    \"\"\"\n",
    "    for i in range(len(zips)):\n",
    "        if zips[i] > 99999:\n",
    "            zips[i] = numpy.int32((zips[i]/10000))"
   ]
  },
  {
   "cell_type": "code",
   "execution_count": 4,
   "metadata": {
    "collapsed": true
   },
   "outputs": [],
   "source": [
    "#Reformat 9 digit zips to 5 digits\n",
    "\n",
    "triZIPs = []\n",
    "\n",
    "triZIPs.append(tri2011.ZIP)\n",
    "triZIPs.append(tri2012.ZIP)\n",
    "triZIPs.append(tri2013.ZIP)\n",
    "triZIPs.append(tri2014.ZIP)\n",
    "triZIPs.append(tri2015.ZIP)\n",
    "\n",
    "for z in triZIPs:\n",
    "    cleanTriZIP(z)"
   ]
  },
  {
   "cell_type": "code",
   "execution_count": 5,
   "metadata": {
    "collapsed": true
   },
   "outputs": [],
   "source": [
    "sortedTriZIPs = []\n",
    "\n",
    "for s in triZIPs:\n",
    "    sortedTriZIPs.append(s.groupby(s.values).size())\n",
    "    sortedTriZIPs[-1].index.name = 'ZIP'\n",
    "    sortedTriZIPs[-1].name = 'REPORTS'"
   ]
  },
  {
   "cell_type": "markdown",
   "metadata": {},
   "source": [
    "## Cleaning up the Zhvi_AllHomes data\n",
    "\n",
    "My initial feeling is that the Zhvi dataset is much easier to work with. However, one change is that I have re-indexed the DataFrame so that each rows index is the ZIP code that it represents"
   ]
  },
  {
   "cell_type": "code",
   "execution_count": 6,
   "metadata": {
    "collapsed": true
   },
   "outputs": [],
   "source": [
    "# Re-index the zhvi DataFrame based off of zip code, which is called RegionName in the data set\n",
    "zhvi.index = zhvi['RegionName']"
   ]
  },
  {
   "cell_type": "markdown",
   "metadata": {},
   "source": [
    "### Dividing the Data\n",
    "For this initial dive into the data, I am pulling out specifically the Zhvi data from NC, and looking between the years 2011-2015. For each year, I am taking the mean value from the Zhvi, since the data from the TRI is tracked annually"
   ]
  },
  {
   "cell_type": "code",
   "execution_count": 7,
   "metadata": {
    "collapsed": true
   },
   "outputs": [],
   "source": [
    "# From the initial DataFrame, copy out the data from NC\n",
    "zhviNCar = zhvi[(zhvi['State'] == 'NC')].copy()\n",
    "\n",
    "#Sort the zipcodes in ascending order\n",
    "zhviNCar.sort_values('RegionName', inplace=True)\n",
    "\n",
    "#Drop all columns outside of the 2011-2015 time frame\n",
    "zhviNCar = zhviNCar.loc[:, '2011-01':'2015-12']\n",
    "\n",
    "#Find the yearly mean prices for the zip codes\n",
    "zhviNCarMeans = []\n",
    "zhviNCarMeans.append(zhviNCar.T.iloc[0:12].mean())\n",
    "zhviNCarMeans.append(zhviNCar.T.iloc[12:24].mean())\n",
    "zhviNCarMeans.append(zhviNCar.T.iloc[24:36].mean())\n",
    "zhviNCarMeans.append(zhviNCar.T.iloc[36:48].mean())\n",
    "zhviNCarMeans.append(zhviNCar.T.iloc[48:60].mean())"
   ]
  },
  {
   "cell_type": "markdown",
   "metadata": {},
   "source": [
    "## Finding the Overlap\n",
    "There are ZIPs in the ZHVI data that aren't in the TRI data, and vice versa. To help draw meaningful conclusions it might be useful to find where the two data sets overlap"
   ]
  },
  {
   "cell_type": "code",
   "execution_count": 8,
   "metadata": {
    "collapsed": true
   },
   "outputs": [],
   "source": [
    "def findOverlap(tri, zhvi):\n",
    "    \"\"\"\n",
    "    Takes equally sized lists as arguments. Each list is a series that is indexed by ZIP codes.\n",
    "    Method returns two lists, indicating where one overlaps the other. For now, kept in two lists\n",
    "    to make graphing easier. I would like to put this all in one dataframe but I'll figure that out later\n",
    "    \"\"\"\n",
    "    #first list returns TRI data values that overlap the ZHVI data values\n",
    "    TRIinZHVI = []\n",
    "    #second list does the opposite.\n",
    "    ZHVIinTRI = []\n",
    "    \n",
    "    for i in range(len(tri)):\n",
    "        mask = zhvi[i].index.isin(tri[0].index)\n",
    "        ZHVIinTRI.append(zhvi[i].where(mask).dropna())\n",
    "        \n",
    "        mask = tri[i].index.isin(ZHVIinTRI[i].index)\n",
    "        TRIinZHVI.append(tri[i].where(mask).dropna())\n",
    "    \n",
    "    return TRIinZHVI, ZHVIinTRI"
   ]
  },
  {
   "cell_type": "code",
   "execution_count": 9,
   "metadata": {
    "collapsed": true
   },
   "outputs": [],
   "source": [
    "triNC, zhviTriNC = findOverlap(sortedTriZIPs, zhviNCarMeans)"
   ]
  },
  {
   "cell_type": "markdown",
   "metadata": {},
   "source": [
    "### Graphing the Data\n",
    "\n",
    "The first graph below shows the mean annual price per ZIP code from the Zhvi_AllHomes dataset\n",
    "The second graph is the total number of TRI reports filed that same year in the same ZIP code.\n",
    "\n",
    "I only am showing the first 20 here to give an idea of what might be possible. There are far to many records to actually show in one graph so we'll need to find a way to usefully show this data"
   ]
  },
  {
   "cell_type": "code",
   "execution_count": 10,
   "metadata": {},
   "outputs": [
    {
     "data": {
      "image/png": "[encoded data removed]",
      "text/plain": [
       "<matplotlib.figure.Figure at 0x7f8e99639810>"
      ]
     },
     "metadata": {},
     "output_type": "display_data"
    }
   ],
   "source": [
    "fig, ax = subplots(figsize = (18,5))\n",
    "\n",
    "index = arange(20)\n",
    "width = .15\n",
    "offset = 0\n",
    "\n",
    "for s in zhviTriNC:\n",
    "    ax.bar(index + (width*offset), s.values[7:27], width)\n",
    "    offset += 1\n",
    "\n",
    "ax.set_xticks(index+(width*2))\n",
    "ax.set_xticklabels(zhviTriNC[0].index[7:27])\n",
    "ax.set_title('Annual Mean Home Value in selected NC zipcodes 2011-2015')\n",
    "ax.set_xlabel('Zip Code')\n",
    "ax.set_ylabel('Value')\n",
    "ax.legend(['2011', '2012', '2013', '2014', '2015']);"
   ]
  },
  {
   "cell_type": "code",
   "execution_count": 11,
   "metadata": {},
   "outputs": [
    {
     "data": {
      "image/png": "[encoded data removed]",
      "text/plain": [
       "<matplotlib.figure.Figure at 0x7f8e99639110>"
      ]
     },
     "metadata": {},
     "output_type": "display_data"
    }
   ],
   "source": [
    "fig, ax = subplots(figsize = (18,5))\n",
    "\n",
    "index = arange(20)\n",
    "width = .15\n",
    "offset = 0\n",
    "\n",
    "for r in triNC:\n",
    "    ax.bar(index + (width*offset), r.values[7:27], width)\n",
    "    offset += 1\n",
    "\n",
    "ax.set_xticks(index+(width*2))\n",
    "ax.set_xticklabels(triNC[0].index[7:27])\n",
    "ax.set_title('Total TRI reports per ZIP code 2011-2015')\n",
    "ax.set_xlabel('Zip Code')\n",
    "ax.set_ylabel('Report Count')\n",
    "ax.legend(['2011', '2012', '2013', '2014', '2015']);"
   ]
  },
  {
   "cell_type": "markdown",
   "metadata": {},
   "source": [
    "## More to come...\n",
    "\n",
    "Well since my first graphs were totally wrong, I dont know what to say. The Mean Home Value has been corrected but the TRI report numbers are still off."
   ]
  }
 ],
 "metadata": {
  "kernelspec": {
   "display_name": "Python 2",
   "language": "python",
   "name": "python2"
  },
  "language_info": {
   "codemirror_mode": {
    "name": "ipython",
    "version": 2
   },
   "file_extension": ".py",
   "mimetype": "text/x-python",
   "name": "python",
   "nbconvert_exporter": "python",
   "pygments_lexer": "ipython2",
   "version": "2.7.13"
  }
 },
 "nbformat": 4,
 "nbformat_minor": 2
}
