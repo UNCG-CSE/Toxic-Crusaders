{
 "cells": [
  {
   "cell_type": "code",
   "execution_count": 2,
   "metadata": {},
   "outputs": [
    {
     "name": "stdout",
     "output_type": "stream",
     "text": [
      "Populating the interactive namespace from numpy and matplotlib\n"
     ]
    }
   ],
   "source": [
    "%pylab inline\n",
    "from mpl_toolkits.basemap import Basemap\n",
    "import matplotlib.pyplot as plt\n",
    "import matplotlib.cm as cm\n",
    "import numpy, csv\n",
    "import pandas as pd"
   ]
  },
  {
   "cell_type": "markdown",
   "metadata": {},
   "source": [
    "## North Carolina TRI Data, 1997-2001\n",
    "\n",
    "In this notebook, we'll be looking at TRI reported releases in North Carolina for the years 1997 through 2001. The three main goals of this notebook are:\n",
    "\n",
    "    - Explore top releasing facilities in terms of total releases and carcinogenic releases\n",
    "    - Explore top releasing industry sectors in terms of total releases and carcinogenic releases\n",
    "    - Visualize on-site releases in NC over this time period using Basemap\n",
    "\n",
    "#### Top Releasing Facilities\n",
    "Identifying the facilities in NC that have the highest total, and carcinogenic, releases during this time period will give us an idea of the locations in the state which may be most heavily affected by toxic release.\n",
    "\n",
    "#### Top Releasing Industry Sectors\n",
    "Looking at the top releasing industry sectors for NC will be interesting in and of itself, and will let us see if releases in particular sectors are high becuase of the sector itself or because of the relative density of the industry type in the state of NC. This will be relevant to compare to other states later on.\n",
    "\n",
    "#### Basemap Visualization\n",
    "Using Basemap to visualise features of these data in NC will be a good way to think about which features are amenable and relevant to geographical mapping, as opposed to numerical trends that are more naturally represented with charts."
   ]
  },
  {
   "cell_type": "markdown",
   "metadata": {},
   "source": [
    "## Top Releasing Facilities"
   ]
  },
  {
   "cell_type": "code",
   "execution_count": 3,
   "metadata": {
    "collapsed": true
   },
   "outputs": [],
   "source": [
    "#code, charts and graphs related to top releasing facilities"
   ]
  },
  {
   "cell_type": "markdown",
   "metadata": {},
   "source": [
    "## Top Releasing Industry Sectors"
   ]
  },
  {
   "cell_type": "code",
   "execution_count": 4,
   "metadata": {
    "collapsed": true
   },
   "outputs": [],
   "source": [
    "#code, charts and graphs related to top releasing facilities"
   ]
  },
  {
   "cell_type": "markdown",
   "metadata": {},
   "source": [
    "## Basemap Visualization"
   ]
  },
  {
   "cell_type": "code",
   "execution_count": 5,
   "metadata": {
    "collapsed": true
   },
   "outputs": [],
   "source": [
    "#code and Basemap visualizations"
   ]
  },
  {
   "cell_type": "code",
   "execution_count": null,
   "metadata": {
    "collapsed": true
   },
   "outputs": [],
   "source": []
  }
 ],
 "metadata": {
  "kernelspec": {
   "display_name": "Python 2",
   "language": "python",
   "name": "python2"
  },
  "language_info": {
   "codemirror_mode": {
    "name": "ipython",
    "version": 2
   },
   "file_extension": ".py",
   "mimetype": "text/x-python",
   "name": "python",
   "nbconvert_exporter": "python",
   "pygments_lexer": "ipython2",
   "version": "2.7.13"
  }
 },
 "nbformat": 4,
 "nbformat_minor": 2
}
