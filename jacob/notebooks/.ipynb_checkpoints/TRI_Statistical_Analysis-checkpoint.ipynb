{
 "cells": [
  {
   "cell_type": "markdown",
   "metadata": {},
   "source": [
    "### Statistical Analysis of TRI Release by Industry Sector, 1987-2016"
   ]
  },
  {
   "cell_type": "code",
   "execution_count": 2,
   "metadata": {
    "collapsed": true
   },
   "outputs": [],
   "source": [
    "#import libraries\n",
    "import numpy as np\n",
    "import pandas as pd\n",
    "import scipy\n",
    "import matplotlib.pyplot as plt"
   ]
  },
  {
   "cell_type": "code",
   "execution_count": 3,
   "metadata": {},
   "outputs": [
    {
     "name": "stderr",
     "output_type": "stream",
     "text": [
      "/Users/jfd/miniconda3/envs/py27/lib/python2.7/site-packages/IPython/core/interactiveshell.py:2717: DtypeWarning: Columns (6) have mixed types. Specify dtype option on import or set low_memory=False.\n",
      "  interactivity=interactivity, compiler=compiler, result=result)\n"
     ]
    }
   ],
   "source": [
    "us_dfs = [pd.read_csv('./data//TRI_%d_US_CLEAN.csv' % x).drop('Unnamed: 0', axis=1) for x in range(1987,2017)]"
   ]
  },
  {
   "cell_type": "code",
   "execution_count": 4,
   "metadata": {
    "collapsed": true
   },
   "outputs": [],
   "source": [
    "dfdict = {x['YEAR'][0]:x for x in us_dfs}"
   ]
  },
  {
   "cell_type": "markdown",
   "metadata": {},
   "source": [
    "--------------------------------------"
   ]
  },
  {
   "cell_type": "markdown",
   "metadata": {},
   "source": [
    "### Outliers in the data\n",
    "\n",
    "For the fourth class assignment, I looked at the US emissions a single industry sector, Rubber and Plastics, from the period 1987-2016. One thing that stood out to me was that the extreme outliers (more than three standard deviations from the mean) in those data accounted for a very large portion of the overall releases for the entire industry sector.\n",
    "\n",
    "Below, I've modified some of the techniques used in the previous assignment so that we can quickly identify information about outliers in a given industry sector for a given year."
   ]
  },
  {
   "cell_type": "code",
   "execution_count": 5,
   "metadata": {
    "collapsed": true
   },
   "outputs": [],
   "source": [
    "def outlierStats(dfdict, year, stdDevs=3, category='Chemicals'):\n",
    "    thisYear = dfdict[year][dfdict[year].INDUSTRY_SECTOR == category]\n",
    "    #total number of entries for this year in given category\n",
    "    totalLen = len(thisYear)\n",
    "    #split up outliers > stdDevs standard deviations from mean\n",
    "    outliers = thisYear[np.abs(thisYear.TOTAL_RELEASES-thisYear.TOTAL_RELEASES.mean())>=(stdDevs*thisYear.TOTAL_RELEASES.std())]\n",
    "    rest = thisYear[np.abs(thisYear.TOTAL_RELEASES-thisYear.TOTAL_RELEASES.mean())<=(stdDevs*thisYear.TOTAL_RELEASES.std())]\n",
    "\n",
    "    print 'Outliers represent %%%.4f of total data points' % (100*(len(outliers)/float(totalLen)))\n",
    "    print '%d values > %.3f standard deviations from the mean.' % ((totalLen - len(rest)),stdDevs)\n",
    "    \n",
    "    outlierSum = outliers['TOTAL_RELEASES'].sum()\n",
    "    sansOutlierSum = thisYear['TOTAL_RELEASES'].sum()\n",
    "\n",
    "    totalReleases = outlierSum + sansOutlierSum\n",
    "\n",
    "    print 'Outliers accounted for %%%.2f of total release (lbs) in the %s sector' % ((100*outlierSum/float(totalReleases)),category)\n",
    "    print 'Values within %s s.d. accounted for %%%.2f of total release (lbs) in the %s sector' % (stdDevs,(100*sansOutlierSum/float(totalReleases)),category)"
   ]
  },
  {
   "cell_type": "code",
   "execution_count": 6,
   "metadata": {},
   "outputs": [
    {
     "name": "stdout",
     "output_type": "stream",
     "text": [
      "Outliers represent %0.6944 of total data points\n",
      "1 values > 3.000 standard deviations from the mean.\n",
      "Outliers accounted for %35.11 of total release (lbs) in the Beverages sector\n",
      "Values within 3 s.d. accounted for %64.89 of total release (lbs) in the Beverages sector\n"
     ]
    }
   ],
   "source": [
    "#looking at Beverages for example\n",
    "outlierStats(dfdict, 2005,3,'Beverages')"
   ]
  },
  {
   "cell_type": "code",
   "execution_count": 7,
   "metadata": {
    "collapsed": true
   },
   "outputs": [],
   "source": [
    "def summarizeAndPlot(startYear, endYear, dfdict, category='Chemicals'):\n",
    "    def basicStatsSummary(startYear, endYear, dfdict, category='Chemicals'):\n",
    "        year_df_array = []\n",
    "\n",
    "        for year in range(startYear, endYear+1):\n",
    "            year_df_array.append({'year': year, 'df': dfdict[year][dfdict[year].INDUSTRY_SECTOR == category].TOTAL_RELEASES})\n",
    "\n",
    "        for i in range(len(year_df_array)):\n",
    "            year = year_df_array[i]['year']\n",
    "            year_df_releases = year_df_array[i]['df']\n",
    "            year_df_array[i]['total'] = year_df_releases.sum()\n",
    "            year_df_array[i]['mean'] = year_df_releases.mean()\n",
    "            year_df_array[i]['median'] = year_df_releases.median()\n",
    "        \n",
    "        return year_df_array\n",
    "\n",
    "    \n",
    "    def plotSummaryAttr(col):\n",
    "        summary[col].plot(kind='kde', title=('Distribution of %s %s-%s, %s' % (col,startYear,endYear,category)), xlim=(summary[col].min(),summary[col].max()))\n",
    "        ymax = max(plt.gca().get_ylim())\n",
    "        plt.vlines(summary[col].mean(),\n",
    "                   ymin=0, \n",
    "                   ymax=ymax,\n",
    "                   linewidth=2.0)\n",
    "\n",
    "        plt.vlines(summary[col].median(),\n",
    "                   ymin=0, \n",
    "                   ymax=ymax,\n",
    "                   linewidth=2.0,\n",
    "                   color='red')\n",
    "\n",
    "        plt.gca().set_ylim(0)\n",
    "        plt.show()\n",
    "        \n",
    "    year_df_objs = basicStatsSummary(startYear, endYear, dfdict, category)\n",
    "    \n",
    "    yearlist = [year_df_objs[i]['year'] for i in range(len(year_df_objs))]\n",
    "    totals = [year_df_objs[i]['total'] for i in range(len(year_df_objs))] \n",
    "    means = [year_df_objs[i]['mean'] for i in range(len(year_df_objs))] \n",
    "    medians = [year_df_objs[i]['median'] for i in range(len(year_df_objs))]\n",
    "\n",
    "    summary = pd.DataFrame({\n",
    "        'Year': yearlist,\n",
    "        'Total': totals,\n",
    "        'Mean': means,\n",
    "        'Median': medians\n",
    "    })\n",
    "    summary['Total'].plot(kind='bar', title='Total Releases %s-%s, %s' % (startYear,endYear,category))\n",
    "    plt.show()\n",
    "    plotSummaryAttr('Total')\n",
    "    summary['Total'].plot(kind='box', title='Total Releases %s-%s, %s' % (startYear,endYear,category))\n",
    "    plt.show()\n",
    "    "
   ]
  },
  {
   "cell_type": "code",
   "execution_count": 8,
   "metadata": {},
   "outputs": [
    {
     "data": {
      "image/png": "[encoded data removed]",
      "text/plain": [
       "<matplotlib.figure.Figure at 0x1067701d0>"
      ]
     },
     "metadata": {},
     "output_type": "display_data"
    },
    {
     "data": {
      "image/png": "[encoded data removed]",
      "text/plain": [
       "<matplotlib.figure.Figure at 0x11ae62c10>"
      ]
     },
     "metadata": {},
     "output_type": "display_data"
    },
    {
     "data": {
      "image/png": "[encoded data removed]",
      "text/plain": [
       "<matplotlib.figure.Figure at 0x1a38ab2790>"
      ]
     },
     "metadata": {},
     "output_type": "display_data"
    }
   ],
   "source": [
    "summarizeAndPlot(1987,2016,dfdict,'Beverages')"
   ]
  },
  {
   "cell_type": "code",
   "execution_count": null,
   "metadata": {
    "collapsed": true
   },
   "outputs": [],
   "source": []
  }
 ],
 "metadata": {
  "kernelspec": {
   "display_name": "Python 2",
   "language": "python",
   "name": "python2"
  },
  "language_info": {
   "codemirror_mode": {
    "name": "ipython",
    "version": 2
   },
   "file_extension": ".py",
   "mimetype": "text/x-python",
   "name": "python",
   "nbconvert_exporter": "python",
   "pygments_lexer": "ipython2",
   "version": "2.7.13"
  }
 },
 "nbformat": 4,
 "nbformat_minor": 2
}
